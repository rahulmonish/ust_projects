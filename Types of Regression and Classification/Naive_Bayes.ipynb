{
 "cells": [
  {
   "cell_type": "code",
   "execution_count": 3,
   "metadata": {},
   "outputs": [
    {
     "name": "stdout",
     "output_type": "stream",
     "text": [
      "      0  0.64  0.64.1  0.1  0.32   0.2   0.3   0.4   0.5   0.6  ...   0.30  \\\n",
      "0  0.21  0.28    0.50  0.0  0.14  0.28  0.21  0.07  0.00  0.94  ...    0.0   \n",
      "1  0.06  0.00    0.71  0.0  1.23  0.19  0.19  0.12  0.64  0.25  ...    0.0   \n",
      "2  0.00  0.00    0.00  0.0  0.63  0.00  0.31  0.63  0.31  0.63  ...    0.0   \n",
      "3  0.00  0.00    0.00  0.0  0.63  0.00  0.31  0.63  0.31  0.63  ...    0.0   \n",
      "4  0.00  0.00    0.00  0.0  1.85  0.00  0.00  1.85  0.00  0.00  ...    0.0   \n",
      "\n",
      "   0.31  0.32.2  0.33  0.34  0.35  0.36  0.37  0.38  0.39  \n",
      "0  0.00     0.0   0.0  0.00   0.0  0.00  0.00   0.0   0.0  \n",
      "1  0.06     0.0   0.0  0.12   0.0  0.06  0.06   0.0   0.0  \n",
      "2  0.00     0.0   0.0  0.00   0.0  0.00  0.00   0.0   0.0  \n",
      "3  0.00     0.0   0.0  0.00   0.0  0.00  0.00   0.0   0.0  \n",
      "4  0.00     0.0   0.0  0.00   0.0  0.00  0.00   0.0   0.0  \n",
      "\n",
      "[5 rows x 48 columns]\n",
      "Classification report\n",
      "             precision    recall  f1-score   support\n",
      "\n",
      "          0       0.98      0.70      0.81       692\n",
      "          1       0.68      0.97      0.80       458\n",
      "\n",
      "avg / total       0.86      0.81      0.81      1150\n",
      " \n",
      "\n",
      "Accuracy of naive classifier on test set: 0.81\n"
     ]
    }
   ],
   "source": [
    "import numpy as np\n",
    "import sklearn as sk\n",
    "import pandas as pd\n",
    "from sklearn.naive_bayes import GaussianNB,MultinomialNB\n",
    "from sklearn.model_selection import train_test_split\n",
    "from sklearn import metrics\n",
    "df=pd.read_csv(\"D:\\Rahul_Code\\spam.csv\")\n",
    "\n",
    "#X=df.drop(df.columns[-1],axis=1)\n",
    "X=df.iloc[:,0:48]\n",
    "print(X.head())\n",
    "y=df[df.columns[-1]]\n",
    "\n",
    "X_train,X_test,y_train,y_test=train_test_split(X, y, test_size=0.25, random_state=0)\n",
    "model = GaussianNB()\n",
    "#model = MultinomialNB()\n",
    "\n",
    "model.fit(X_train,y_train)\n",
    "y_pred = model.predict(X_test)\n",
    "\n",
    "print (\"Classification report\")\n",
    "print (metrics.classification_report(y_test,y_pred),\"\\n\")\n",
    "\n",
    "\n",
    "print('Accuracy of naive classifier on test set: {:.2f}'.format(model.score(X_test, y_test)))\n",
    "\n"
   ]
  }
 ],
 "metadata": {
  "kernelspec": {
   "display_name": "Python 3",
   "language": "python",
   "name": "python3"
  },
  "language_info": {
   "codemirror_mode": {
    "name": "ipython",
    "version": 3
   },
   "file_extension": ".py",
   "mimetype": "text/x-python",
   "name": "python",
   "nbconvert_exporter": "python",
   "pygments_lexer": "ipython3",
   "version": "3.6.4"
  }
 },
 "nbformat": 4,
 "nbformat_minor": 2
}
